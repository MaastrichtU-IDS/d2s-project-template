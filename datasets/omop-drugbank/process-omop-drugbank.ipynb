{
 "cells": [
  {
   "cell_type": "markdown",
   "metadata": {},
   "source": [
    "# Process OMOP to DrugBank mappings Data\n",
    "\n",
    "Jupyter Notebook to download and preprocess files to transform to BioLink RDF.\n",
    "\n",
    "### Download files\n",
    "\n",
    "The download can be defined:\n",
    "* in this Jupyter Notebook using Python\n",
    "* as a Bash script in the `download/download.sh` file, and executed using `d2s download omop-drugbank`\n",
    "\n"
   ]
  },
  {
   "cell_type": "code",
   "execution_count": 9,
   "metadata": {},
   "outputs": [],
   "source": [
    "import os\n",
    "\n",
    "# Variables and path for the dataset\n",
    "dataset_id = 'omop-drugbank'\n",
    "input_folder = '/notebooks/workspace/input/' + dataset_id\n",
    "mapping_folder = '/notebooks/datasets/' + dataset_id + '/mapping'\n",
    "os.makedirs(input_folder, exist_ok=True)"
   ]
  },
  {
   "cell_type": "code",
   "execution_count": null,
   "metadata": {},
   "outputs": [],
   "source": [
    "# Use input folder as working folder\n",
    "os.chdir(input_folder)\n",
    "\n",
    "# Download OMOP to DrugBank mappings\n",
    "os.system('wget -N https://raw.githubusercontent.com/OHDSI/KnowledgeBase/master/LAERTES/terminology-mappings/RxNORM-to-UNII-PreferredName-To-DrugBank/rxnorm-drugbank-omop-mapping-CLEANED.tsv')"
   ]
  },
  {
   "cell_type": "markdown",
   "metadata": {},
   "source": [
    "## Process and load concepts\n",
    "\n",
    "We will use CWL workflows to integrate data with SPARQL queries. The structured data is first converted to a generic RDF based on the data structure, then mapped to BioLink using SPARQL. The SPARQL queries are defined in `.rq` files and can be [accessed on GitHub](https://github.com/MaastrichtU-IDS/d2s-project-template/tree/master/datasets/omop-drugbank/mapping).\n",
    "\n",
    "Start the required services (here on our server, defined by the `-d trek` arg):\n",
    "\n",
    "```bash\n",
    "d2s start tmp-virtuoso drill -d trek\n",
    "```\n",
    "\n",
    "Run the following d2s command in the d2s-project folder:\n",
    "\n",
    "```bash\n",
    "d2s run csv-virtuoso.cwl omop-drugbank\n",
    "```\n",
    "\n",
    "[HCLS metadata](https://www.w3.org/TR/hcls-dataset/) can be computed for the omop-drugbank graph:\n",
    "\n",
    "```bash\n",
    "d2s run compute-hcls-metadata.cwl omop-drugbank\n",
    "```\n",
    "\n",
    "## Load the BioLink model\n",
    "\n",
    "Load the [BioLink model ontology as Turtle](https://github.com/biolink/biolink-model/blob/master/biolink-model.ttl) in the graph `https://w3id.org/biolink/biolink-model` in the triplestore\n",
    "\n",
    "## Link more concepts\n",
    "\n",
    "See https://github.com/OHDSI/Vocabulary-v5.0\n"
   ]
  }
 ],
 "metadata": {
  "kernelspec": {
   "display_name": "Python 3",
   "language": "python",
   "name": "python3"
  },
  "language_info": {
   "codemirror_mode": {
    "name": "ipython",
    "version": 3
   },
   "file_extension": ".py",
   "mimetype": "text/x-python",
   "name": "python",
   "nbconvert_exporter": "python",
   "pygments_lexer": "ipython3",
   "version": "3.8.2"
  }
 },
 "nbformat": 4,
 "nbformat_minor": 4
}