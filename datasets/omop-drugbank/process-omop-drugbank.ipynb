{
 "cells": [
  {
   "cell_type": "markdown",
   "metadata": {},
   "source": [
    "# Process OMOP to DrugBank mappings Data\n",
    "\n",
    "Jupyter Notebook to download and preprocess files to transform to BioLink RDF.\n",
    "\n",
    "### Download files\n",
    "\n",
    "The download can be defined:\n",
    "* in this Jupyter Notebook using Python\n",
    "* as a Bash script in the `download/download.sh` file, and executed using `d2s download omop-drugbank`\n",
    "\n"
   ]
  },
  {
   "cell_type": "code",
   "execution_count": 9,
   "metadata": {},
   "outputs": [],
   "source": [
    "import os\n",
    "\n",
    "# Variables and path for the dataset\n",
    "dataset_id = 'omop-drugbank'\n",
    "input_folder = '/notebooks/workspace/input/' + dataset_id\n",
    "mapping_folder = '/notebooks/datasets/' + dataset_id + '/mapping'\n",
    "os.makedirs(input_folder, exist_ok=True)"
   ]
  },
  {
   "cell_type": "code",
   "execution_count": null,
   "metadata": {},
   "outputs": [],
   "source": [
    "# Use input folder as working folder\n",
    "os.chdir(input_folder)\n",
    "\n",
    "# Download OMOP to DrugBank mappings\n",
    "os.system('wget -N https://raw.githubusercontent.com/OHDSI/KnowledgeBase/master/LAERTES/terminology-mappings/RxNORM-to-UNII-PreferredName-To-DrugBank/rxnorm-drugbank-omop-mapping-CLEANED.tsv')"
   ]
  }
 ],
 "metadata": {
  "kernelspec": {
   "display_name": "Python 3",
   "language": "python",
   "name": "python3"
  },
  "language_info": {
   "codemirror_mode": {
    "name": "ipython",
    "version": 3
   },
   "file_extension": ".py",
   "mimetype": "text/x-python",
   "name": "python",
   "nbconvert_exporter": "python",
   "pygments_lexer": "ipython3",
   "version": "3.8.2"
  }
 },
 "nbformat": 4,
 "nbformat_minor": 4
}