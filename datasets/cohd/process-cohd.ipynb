{
 "cells": [
  {
   "cell_type": "markdown",
   "metadata": {},
   "source": [
    "# Process COHD Clinical Data\n",
    "\n",
    "Jupyter Notebook to download and preprocess files for the [COHD Clinical Data](http://cohd.smart-api.info/) transformation to BioLink RDF.\n",
    "\n",
    "Sample files are [available on GitHub](https://github.com/MaastrichtU-IDS/d2s-scripts-repository/tree/master/resources/cohd-sample). Be aware that the complete data comes with a 27G TSV file.\n",
    "\n",
    "### Download files"
   ]
  },
  {
   "cell_type": "code",
   "execution_count": 74,
   "metadata": {},
   "outputs": [],
   "source": [
    "import os\n",
    "import glob\n",
    "import requests\n",
    "import functools\n",
    "import shutil\n",
    "import pandas as pd \n",
    "\n",
    "def download_file(url):\n",
    "    local_filename = url.split('/')[-1]\n",
    "    with requests.get(url, stream=True) as r:\n",
    "        with open(local_filename, 'wb') as f:\n",
    "            r.raw.read = functools.partial(r.raw.read, decode_content=True)\n",
    "            shutil.copyfileobj(r.raw, f)\n",
    "    print(local_filename + ' downloaded.')\n",
    "    if local_filename.endswith('.gz') or local_filename.endswith('.zip'):\n",
    "        print('gogo')\n",
    "        shutil.unpack_archive(local_filename, '.')\n",
    "    return local_filename\n",
    "\n",
    "def convert_tsv_to_csv(tsv_file):\n",
    "    csv_table=pd.read_table(tsv_file,sep='\\t')\n",
    "    csv_table.to_csv(tsv_file[:-4] + '.csv',index=False)\n",
    "\n",
    "# Variables and path for the dataset\n",
    "dataset_id = 'cohd'\n",
    "input_folder = '/notebooks/workspace/input/cohd'\n",
    "# Use input folder as working folder\n",
    "os.chdir(input_folder)"
   ]
  },
  {
   "cell_type": "code",
   "execution_count": 75,
   "metadata": {},
   "outputs": [
    {
     "name": "stdout",
     "output_type": "stream",
     "text": [
      "concepts.tsv downloaded.\n",
      "paired_concept_counts_associations.tsv downloaded.\n",
      "dataset.tsv downloaded.\n",
      "domain_concept_counts.tsv downloaded.\n",
      "domain_pair_concept_counts.tsv downloaded.\n",
      "patient_count.tsv downloaded.\n",
      "single_concept_counts.tsv downloaded.\n",
      "done\n"
     ]
    }
   ],
   "source": [
    "files_to_download = [\n",
    "  'https://raw.githubusercontent.com/MaastrichtU-IDS/d2s-scripts-repository/master/resources/cohd-sample/concepts.tsv',\n",
    "  'https://raw.githubusercontent.com/MaastrichtU-IDS/d2s-scripts-repository/master/resources/cohd-sample/paired_concept_counts_associations.tsv',\n",
    "  'https://raw.githubusercontent.com/MaastrichtU-IDS/d2s-scripts-repository/master/resources/cohd-sample/dataset.tsv',\n",
    "  'https://raw.githubusercontent.com/MaastrichtU-IDS/d2s-scripts-repository/master/resources/cohd-sample/domain_concept_counts.tsv',\n",
    "  'https://raw.githubusercontent.com/MaastrichtU-IDS/d2s-scripts-repository/master/resources/cohd-sample/domain_pair_concept_counts.tsv',\n",
    "  'https://raw.githubusercontent.com/MaastrichtU-IDS/d2s-scripts-repository/master/resources/cohd-sample/patient_count.tsv',\n",
    "  'https://raw.githubusercontent.com/MaastrichtU-IDS/d2s-scripts-repository/master/resources/cohd-sample/single_concept_counts.tsv'\n",
    "]\n",
    "# https://filedn.com/ll1efYfBhLaV67ONaCyMlKh/cohd-v2.tar.gz\n",
    "for file_url in files_to_download:\n",
    "  download_file(file_url)\n",
    "\n",
    "convert_tsv_to_csv('paired_concept_counts_associations.tsv')"
   ]
  },
  {
   "cell_type": "markdown",
   "metadata": {},
   "source": [
    "### Split the large associations CSV file"
   ]
  },
  {
   "cell_type": "code",
   "execution_count": 77,
   "metadata": {},
   "outputs": [
    {
     "data": {
      "text/plain": [
       "0"
      ]
     },
     "execution_count": 77,
     "metadata": {},
     "output_type": "execute_result"
    }
   ],
   "source": [
    "with open('paired_concept_counts_associations.csv') as f:\n",
    "    csv_header = f.readline().strip() \n",
    "\n",
    "os.makedirs('split', exist_ok=True)\n",
    "os.system('split -l 100 paired_concept_counts_associations.csv split/paired_concept_counts_associations-split_')\n",
    "\n",
    "# Remove the header line\n",
    "os.system('sed -i -e \"1d\" split/paired_concept_counts_associations-split_aa')\n",
    "\n",
    "# Rename files\n",
    "count = 0\n",
    "listing = glob.glob('split/paired_*')\n",
    "for filename in listing:\n",
    "    os.rename(filename, 'split/paired_concept_counts_associations_' + str(count) + '.csv')\n",
    "    count += 1\n",
    "\n",
    "# Add header line to each split file\n",
    "add_header_cmd = \"\"\"sed -i '1s/^/\"\"\" + csv_header + \"\"\"\\\\n/' split/*.csv\"\"\"\n",
    "os.system(add_header_cmd)"
   ]
  },
  {
   "cell_type": "code",
   "execution_count": null,
   "metadata": {},
   "outputs": [],
   "source": []
  }
 ],
 "metadata": {
  "kernelspec": {
   "display_name": "Python 3",
   "language": "python",
   "name": "python3"
  },
  "language_info": {
   "codemirror_mode": {
    "name": "ipython",
    "version": 3
   },
   "file_extension": ".py",
   "mimetype": "text/x-python",
   "name": "python",
   "nbconvert_exporter": "python",
   "pygments_lexer": "ipython3",
   "version": "3.8.2"
  }
 },
 "nbformat": 4,
 "nbformat_minor": 4
}
