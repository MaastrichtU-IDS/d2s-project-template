{
 "cells": [
  {
   "cell_type": "markdown",
   "metadata": {},
   "source": [
    "# Process HUGO Gene Nomenclature Committee Data\n",
    "\n",
    "Jupyter Notebook to download and preprocess files to transform to BioLink RDF.\n",
    "\n",
    "### Download files\n",
    "\n",
    "The download can be defined:\n",
    "* in this Jupyter Notebook using Python\n",
    "* as a Bash script in the `download/download.sh` file, and executed using `d2s download hgnc`\n",
    "\n"
   ]
  },
  {
   "cell_type": "code",
   "execution_count": 9,
   "metadata": {},
   "outputs": [],
   "source": [
    "import os\n",
    "import glob\n",
    "import requests\n",
    "import functools\n",
    "import shutil\n",
    "import pandas as pd \n",
    "\n",
    "# Use Pandas, load file in memory\n",
    "def convert_tsv_to_csv(tsv_file):\n",
    "    csv_table=pd.read_table(tsv_file,sep='\\t')\n",
    "    csv_table.to_csv(tsv_file[:-4] + '.csv',index=False)\n",
    "\n",
    "# Variables and path for the dataset\n",
    "dataset_id = 'hgnc'\n",
    "dsri_flink_pod_id = 'flink-jobmanager-###'\n",
    "input_folder = '/notebooks/workspace/input/' + dataset_id\n",
    "mapping_folder = '/notebooks/datasets/' + dataset_id + '/mapping'\n",
    "os.makedirs(input_folder, exist_ok=True)"
   ]
  },
  {
   "cell_type": "code",
   "execution_count": null,
   "metadata": {},
   "outputs": [],
   "source": [
    "# Use input folder as working folder\n",
    "os.chdir(input_folder)\n",
    "\n",
    "files_to_download = [\n",
    "    'https://raw.githubusercontent.com/MaastrichtU-IDS/d2s-scripts-repository/master/resources/cohd-sample/concepts.tsv'\n",
    "]\n",
    "\n",
    "# Download each file and uncompress them if needed\n",
    "# Use Bash because faster and more reliable than Python\n",
    "for download_url in files_to_download:\n",
    "    os.system('wget -N ' + download_url)\n",
    "    os.system('find . -name \"*.tar.gz\" -exec tar -xzvf {} \\;')\n",
    "    os.system('unzip -o \\*.zip')\n",
    "\n",
    "# Rename .txt to .tsv\n",
    "listing = glob.glob('*.txt')\n",
    "for filename in listing:\n",
    "    os.rename(filename, filename[:-4] + '.tsv')\n",
    "\n",
    "    \n",
    "## Convert TSV to CSV to be processed with the RMLStreamer\n",
    "# use Pandas (load in memory)\n",
    "convert_tsv_to_csv('concepts.tsv')\n",
    "# Use Bash \n",
    "# cmd_convert_csv = \"\"\"sed -e 's/\"/\\\\\"/g' -e 's/\\t/\",\"/g' -e 's/^/\"/' -e 's/$/\"/'  -e 's/\\r//' concepts.tsv > concepts.csv\"\"\"\n",
    "# os.system(cmd_convert_csv)"
   ]
  },
  {
   "cell_type": "markdown",
   "metadata": {},
   "source": [
    "## Process and load concepts\n",
    "\n",
    "We will use CWL workflows to integrate data with SPARQL queries. The structured data is first converted to a generic RDF based on the data structure, then mapped to BioLink using SPARQL. The SPARQL queries are defined in `.rq` files and can be [accessed on GitHub](https://github.com/MaastrichtU-IDS/d2s-project-template/tree/master/datasets/hgnc/mapping).\n",
    "\n",
    "Start the required services (here on our server, defined by the `-d trek` arg):\n",
    "\n",
    "```bash\n",
    "d2s start tmp-virtuoso drill -d trek\n",
    "```\n",
    "\n",
    "Run one of the following d2s command in the d2s-project folder:\n",
    "\n",
    "```bash\n",
    "d2s run csv-virtuoso.cwl hgnc\n",
    "d2s run xml-virtuoso.cwl hgnc\n",
    "```\n",
    "\n",
    "[HCLS metadata](https://www.w3.org/TR/hcls-dataset/) can be computed for the hgnc graph:\n",
    "\n",
    "```bash\n",
    "d2s run compute-hcls-metadata.cwl hgnc\n",
    "```\n",
    "\n",
    "## Load the BioLink model\n",
    "\n",
    "Load the [BioLink model ontology as Turtle](https://github.com/biolink/biolink-model/blob/master/biolink-model.ttl) in the graph `https://w3id.org/biolink/biolink-model` in the triplestore\n"
   ]
  }
 ],
 "metadata": {
  "kernelspec": {
   "display_name": "Python 3",
   "language": "python",
   "name": "python3"
  },
  "language_info": {
   "codemirror_mode": {
    "name": "ipython",
    "version": 3
   },
   "file_extension": ".py",
   "mimetype": "text/x-python",
   "name": "python",
   "nbconvert_exporter": "python",
   "pygments_lexer": "ipython3",
   "version": "3.8.2"
  }
 },
 "nbformat": 4,
 "nbformat_minor": 4
}